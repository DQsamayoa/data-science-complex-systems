{
 "cells": [
  {
   "cell_type": "markdown",
   "metadata": {
    "slideshow": {
     "slide_type": "slide"
    }
   },
   "source": [
    "## Understanding_Py2neo\n",
    "---\n",
    "J.Adrian Sánchez\n",
    "September 2016"
   ]
  },
  {
   "cell_type": "code",
   "execution_count": 4,
   "metadata": {},
   "outputs": [
    {
     "name": "stdout",
     "output_type": "stream",
     "text": [
      "py2neo==3.1.2\r\n"
     ]
    }
   ],
   "source": [
    "!pip3 freeze | grep py2neo"
   ]
  },
  {
   "cell_type": "code",
   "execution_count": 5,
   "metadata": {},
   "outputs": [],
   "source": [
    "import time \n",
    "import calendar\n",
    "from datetime import datetime\n",
    "import requests \n",
    "import json\n",
    "from py2neo import Graph, Node, Relationship"
   ]
  },
  {
   "cell_type": "code",
   "execution_count": 6,
   "metadata": {},
   "outputs": [],
   "source": [
    "graph = Graph(password=\"test1234\")"
   ]
  },
  {
   "cell_type": "code",
   "execution_count": 7,
   "metadata": {},
   "outputs": [
    {
     "name": "stdout",
     "output_type": "stream",
     "text": [
      "<Graph uri='http://localhost:7474/db/data/'>\n"
     ]
    }
   ],
   "source": [
    "print(graph)"
   ]
  },
  {
   "cell_type": "code",
   "execution_count": 8,
   "metadata": {},
   "outputs": [
    {
     "data": {
      "text/plain": [
       "<py2neo.database.Cursor at 0x112fbd198>"
      ]
     },
     "execution_count": 8,
     "metadata": {},
     "output_type": "execute_result"
    }
   ],
   "source": [
    "graph.run(\"CREATE CONSTRAINT ON (u:User) ASSERT u.username IS UNIQUE\")\n",
    "graph.run(\"CREATE CONSTRAINT ON (t:Tweet) ASSERT t.id IS UNIQUE\")\n",
    "graph.run(\"CREATE CONSTRAINT ON (h:Hashtag) ASSERT h.name IS UNIQUE\")\n",
    "graph.run(\"CREATE CONSTRAINT ON (d:Timedate) ASSERT d.date IS UNIQUE\")\n",
    "graph.run(\"CREATE CONSTRAINT ON (c:City) ASSERT c.city IS UNIQUE\")"
   ]
  },
  {
   "cell_type": "code",
   "execution_count": 1,
   "metadata": {},
   "outputs": [
    {
     "name": "stdout",
     "output_type": "stream",
     "text": [
      "Enter host password for user 'Understanding_Py2neo.ipynb':"
     ]
    }
   ],
   "source": [
    "!curl -XPOST -u **************** 'https://api.twitter.com/oauth2/token?grant_type=client_credentials'"
   ]
  },
  {
   "cell_type": "code",
   "execution_count": 2,
   "metadata": {},
   "outputs": [],
   "source": [
    "twitter_bearer = \"***************\"\n",
    "\n",
    "\n",
    "headers = dict(accept=\"application/json\", Authorization=\"Bearer \" + twitter_bearer)\n",
    "payload = dict(count=75, result_type=\"mixed\", lang=\"en\", q=\"trump\")\n",
    "base_url = \"https://api.twitter.com/1.1/search/tweets.json?\"\n",
    "\n",
    "payload_look = dict(id=id, include_my_retweet=\"true\")\n",
    "base_url_look= \"https://api.twitter.com/1.1/statuses/show.json?\""
   ]
  },
  {
   "cell_type": "code",
   "execution_count": 11,
   "metadata": {},
   "outputs": [],
   "source": [
    "def find_tweets(since_id):\n",
    "\n",
    "    payload[\"since_id\"] = since_id\n",
    "    url = base_url + \"q={q}&count={count}&result_type={result_type}&lang={lang}&since_id={since_id}\".format(**payload)\n",
    "\n",
    "    r = requests.get(url, headers=headers)\n",
    "    tweets= r.json()[\"statuses\"]\n",
    "\n",
    "    return tweets"
   ]
  },
  {
   "cell_type": "code",
   "execution_count": 12,
   "metadata": {},
   "outputs": [],
   "source": [
    "def date(created_at):\n",
    "    dt = datetime.strptime(created_at,'%a %b %d %H:%M:%S +0000 %Y')\n",
    "    day = dt.day\n",
    "    month = dt.month\n",
    "    year = dt.year\n",
    "    \n",
    "    return str(day) + \"/\" + str(month) + \"/\" + str(year)"
   ]
  },
  {
   "cell_type": "code",
   "execution_count": 13,
   "metadata": {},
   "outputs": [],
   "source": [
    "def look_tweet(id):\n",
    "    payload_look[\"id\"] = id\n",
    "    url = base_url_look + \"id={id}&include_my_retweet={include_my_retweet}\".format(**payload_look)\n",
    "    \n",
    "    r = requests.get(url, headers=headers)\n",
    "    tweet= r.json()\n",
    "    \n",
    "    return tweet"
   ]
  },
  {
   "cell_type": "code",
   "execution_count": 14,
   "metadata": {},
   "outputs": [],
   "source": [
    "def upload_tweets(tweets):\n",
    "    print(\"Uploading tweets\")\n",
    "    for t in tweets:\n",
    "        u = t[\"user\"]\n",
    "        e = t[\"entities\"]\n",
    "\n",
    "\n",
    "        #1.TWEET NODE\n",
    "        tweet = Node(\"Tweet\", id=t[\"id\"])\n",
    "        graph.merge(tweet)\n",
    "        \n",
    "            #TWEET Properties\n",
    "        tweet[\"text\"] = t[\"text\"]\n",
    "        tweet[\"created_at\"] = date(t[\"created_at\"])\n",
    "        tweet[\"favorite_count\"] = t[\"favorite_count\"]\n",
    "        tweet[\"retweet_count\"] = t[\"retweet_count\"]\n",
    "        \n",
    "        graph.push(tweet)\n",
    "\n",
    "        \n",
    "        #2.USER NODE\n",
    "        user = Node(\"User\", username=u[\"screen_name\"])\n",
    "        graph.merge(user)\n",
    "        \n",
    "            #USER Properties\n",
    "        user[\"name\"]=u[\"name\"]\n",
    "        user[\"tweets\"]=u[\"statuses_count\"]\n",
    "        user[\"location\"]=u[\"location\"]\n",
    "        user[\"followers\"]=u[\"followers_count\"]\n",
    "        user[\"following\"]=u[\"friends_count\"]\n",
    "        \n",
    "        graph.push(user)\n",
    "\n",
    "\n",
    "        #I. First Relationship user-posts-tweet\n",
    "        graph.merge(Relationship(user, \"POSTS\", tweet))\n",
    "        \n",
    "        \n",
    "        \n",
    "        #3. DATE NODE\n",
    "        timedate = Node(\"Timedate\", username=date(t[\"created_at\"]))\n",
    "        graph.merge(timedate)\n",
    "        \n",
    "        \n",
    "        #II. Second Relationship tweet-born-date\n",
    "        graph.merge(Relationship(tweet, \"BORN\", timedate))\n",
    "        \n",
    "        #4. HASHTAG NODE\n",
    "        for h in e.get(\"hashtags\", []):\n",
    "            hashtag = Node(\"Hashtag\", name = h[\"text\"].lower())\n",
    "            graph.merge(hashtag)\n",
    "            \n",
    "            #III. Third Relationship hashtag-tags-tweet\n",
    "            graph.merge(Relationship(hashtag, \"TAGS\", tweet))\n",
    "        \n",
    "        #5. USER MENTION NODE\n",
    "        for m in e.get('user_mentions', []):\n",
    "            mention = Node(\"User\", username = m[\"screen_name\"])\n",
    "            graph.merge(mention)\n",
    "            \n",
    "            #IV. Fourth Relationship tweet-mentions-mention\n",
    "            graph.merge(Relationship(tweet, \"MENTIONS\", mention))\n",
    "        \n",
    "        #6. PLACE NODE\n",
    "        place = t.get(\"place\")\n",
    "        if place:\n",
    "            city = Node(\"City\", city = t.get(\"place\").get(\"name\"))\n",
    "            graph.merge(city)\n",
    "            \n",
    "            #V. Fifth Relationship tweet-origin-city\n",
    "            graph.merge(Relationship(tweet, \"ORIGIN\", city))\n",
    "        \n",
    "        \n",
    "        #7. REPLY NODE\n",
    "        reply = t.get(\"in_reply_to_status_id\")\n",
    "        \n",
    "        if reply:\n",
    "            reply_tweet = Node (\"Tweet\", id = reply)\n",
    "            graph.merge(reply_tweet)\n",
    "            \n",
    "            resp = look_tweet(reply)\n",
    "            \n",
    "            #Creating properties of the reply node\n",
    "            reply_tweet[\"text\"] = resp.get('text')\n",
    "            reply_tweet[\"created_at\"] = resp.get(\"created_at\")\n",
    "            reply_tweet[\"favorite_count\"] = resp.get(\"favorite_count\")\n",
    "            reply_tweet[\"retweet_count\"] = resp.get(\"retweet_count\")\n",
    "            \n",
    "            #VI. Sixth Relationship tweet-reply_to-reply_tweet\n",
    "            graph.merge(Relationship(tweet, \"REPLY_TO\", reply_tweet))\n",
    "        \n",
    "          \n",
    "        #8. RETWEET NODE\n",
    "        ret = t.get(\"retweeted_status\", {})\n",
    "        \n",
    "        if ret:\n",
    "            retweet = Node(\"Tweet\", id = ret.get(\"id\"))\n",
    "            graph.merge(retweet)\n",
    "            \n",
    "            #Creating properties of the retweet\n",
    "            retweet[\"text\"] = ret.get(\"text\")\n",
    "            retweet[\"created_at\"] = ret.get(\"created_at\")\n",
    "            retweet[\"favorite_count\"] = ret.get(\"favorite_count\")\n",
    "            retweet[\"retweet_count\"] = ret.get(\"retweet_count\")\n",
    "            \n",
    "            graph.push(retweet)\n",
    "            \n",
    "            #VI. Seven Relationship tweet-retweets_retweet\n",
    "            graph.merge(Relationship(tweet, \"RETWEETS\", retweet))\n",
    "\n",
    "      \n",
    "    \n",
    "    print(\"Nodes-relationships created in neo4j\")\n",
    "\n",
    "\n",
    "    "
   ]
  },
  {
   "cell_type": "code",
   "execution_count": 18,
   "metadata": {},
   "outputs": [
    {
     "name": "stdout",
     "output_type": "stream",
     "text": [
      "Tweets found and the upload to NEo4j will begin\n",
      "Uploading tweets\n",
      "Nodes-relationships created in neo4j\n",
      "75 tweets uploaded!\n"
     ]
    },
    {
     "ename": "KeyboardInterrupt",
     "evalue": "",
     "output_type": "error",
     "traceback": [
      "\u001b[0;31m---------------------------------------------------------------------------\u001b[0m",
      "\u001b[0;31mKeyboardInterrupt\u001b[0m                         Traceback (most recent call last)",
      "\u001b[0;32m<ipython-input-18-5ad94ad0006a>\u001b[0m in \u001b[0;36m<module>\u001b[0;34m()\u001b[0m\n\u001b[1;32m     21\u001b[0m \u001b[0;34m\u001b[0m\u001b[0m\n\u001b[1;32m     22\u001b[0m         \u001b[0mprint\u001b[0m\u001b[0;34m(\u001b[0m\u001b[0;34m\"{} tweets uploaded!\"\u001b[0m\u001b[0;34m.\u001b[0m\u001b[0mformat\u001b[0m\u001b[0;34m(\u001b[0m\u001b[0mlen\u001b[0m\u001b[0;34m(\u001b[0m\u001b[0mtweets\u001b[0m\u001b[0;34m)\u001b[0m\u001b[0;34m)\u001b[0m\u001b[0;34m)\u001b[0m\u001b[0;34m\u001b[0m\u001b[0m\n\u001b[0;32m---> 23\u001b[0;31m         \u001b[0mtime\u001b[0m\u001b[0;34m.\u001b[0m\u001b[0msleep\u001b[0m\u001b[0;34m(\u001b[0m\u001b[0;36m60\u001b[0m\u001b[0;34m)\u001b[0m\u001b[0;34m\u001b[0m\u001b[0m\n\u001b[0m\u001b[1;32m     24\u001b[0m \u001b[0;34m\u001b[0m\u001b[0m\n\u001b[1;32m     25\u001b[0m     \u001b[0;32mexcept\u001b[0m \u001b[0mException\u001b[0m \u001b[0;32mas\u001b[0m \u001b[0me\u001b[0m\u001b[0;34m:\u001b[0m\u001b[0;34m\u001b[0m\u001b[0m\n",
      "\u001b[0;31mKeyboardInterrupt\u001b[0m: "
     ]
    }
   ],
   "source": [
    "since_id = -1\n",
    "\n",
    "while True:\n",
    "\n",
    "    try:\n",
    "        tweets = find_tweets(since_id=since_id)\n",
    "\n",
    "        # Save tweets in a json file\n",
    "        outFile = open('tweets_test.json', 'a')\n",
    "        outFile.write(json.dumps(tweets))\n",
    "        outFile.close()\n",
    "\n",
    "        if not tweets:\n",
    "            print(\"No tweets found. Looking for more of them in 60 seconds\")\n",
    "            time.sleep(60)\n",
    "            continue\n",
    "\n",
    "        since_id = tweets[0].get(\"id\")\n",
    "        print(\"Tweets found and the upload to NEo4j will begin\")\n",
    "        upload_tweets(tweets)\n",
    "\n",
    "        print(\"{} tweets uploaded!\".format(len(tweets)))\n",
    "        time.sleep(60)\n",
    "\n",
    "    except Exception as e:\n",
    "        print(e)\n",
    "        time.sleep(60)\n",
    "        continue"
   ]
  },
  {
   "cell_type": "code",
   "execution_count": null,
   "metadata": {
    "collapsed": true
   },
   "outputs": [],
   "source": []
  }
 ],
 "metadata": {
  "celltoolbar": "Slideshow",
  "kernelspec": {
   "display_name": "Python 3",
   "language": "python",
   "name": "python3"
  },
  "language_info": {
   "codemirror_mode": {
    "name": "ipython",
    "version": 3
   },
   "file_extension": ".py",
   "mimetype": "text/x-python",
   "name": "python",
   "nbconvert_exporter": "python",
   "pygments_lexer": "ipython3",
   "version": "3.6.5"
  }
 },
 "nbformat": 4,
 "nbformat_minor": 1
}
